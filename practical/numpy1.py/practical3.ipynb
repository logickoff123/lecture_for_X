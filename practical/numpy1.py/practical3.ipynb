{
 "cells": [
  {
   "cell_type": "code",
   "execution_count": 1,
   "id": "43094c02",
   "metadata": {},
   "outputs": [],
   "source": [
    "import numpy as np"
   ]
  },
  {
   "cell_type": "code",
   "execution_count": 2,
   "id": "0c36a44a",
   "metadata": {},
   "outputs": [],
   "source": [
    "data = [\n",
    "    [30, 1, 3],\n",
    "    [20, 0, 8],\n",
    "    [25, 0, 6],\n",
    "    [15, 1, 7]\n",
    "]"
   ]
  },
  {
   "cell_type": "markdown",
   "id": "9b7fd415",
   "metadata": {},
   "source": [
    "### К нашей температуре прибавть 5"
   ]
  },
  {
   "cell_type": "code",
   "execution_count": 5,
   "id": "93828f54",
   "metadata": {},
   "outputs": [
    {
     "name": "stdout",
     "output_type": "stream",
     "text": [
      "[30]\n",
      "[1]\n",
      "[3]\n",
      "[30, 20]\n",
      "[1, 0]\n",
      "[3, 8]\n",
      "[30, 20, 25]\n",
      "[1, 0, 0]\n",
      "[3, 8, 6]\n",
      "[30, 20, 25, 15]\n",
      "[1, 0, 0, 1]\n",
      "[3, 8, 6, 7]\n"
     ]
    }
   ],
   "source": [
    "t = []\n",
    "r = []\n",
    "h = []\n",
    "\n",
    "for day in data:\n",
    "    t.append(day[0])\n",
    "    r.append(day[1])\n",
    "    h.append(day[2])\n",
    "\n",
    "    print (t)\n",
    "    print (r)\n",
    "    print (h)"
   ]
  },
  {
   "cell_type": "code",
   "execution_count": null,
   "id": "fdbbd928",
   "metadata": {},
   "outputs": [
    {
     "name": "stdout",
     "output_type": "stream",
     "text": [
      "[35]\n",
      "[35, 25]\n",
      "[35, 25, 30]\n",
      "[35, 25, 30, 20]\n"
     ]
    }
   ],
   "source": [
    "new_t =[]\n",
    "for i in t:\n",
    "    new_t.append(i+5)\n",
    "\n",
    "    print(new_t)"
   ]
  },
  {
   "cell_type": "markdown",
   "id": "daa764ce",
   "metadata": {},
   "source": [
    "### Давай сдлеаем с помощью numpy"
   ]
  },
  {
   "cell_type": "code",
   "execution_count": 8,
   "id": "66cdfcbb",
   "metadata": {},
   "outputs": [],
   "source": [
    "data = np.array([\n",
    "    [30, 1, 3],\n",
    "    [20, 0, 8],\n",
    "    [25, 0, 6],\n",
    "    [15, 1, 7]\n",
    "])"
   ]
  },
  {
   "cell_type": "code",
   "execution_count": 9,
   "id": "a2d2dc2b",
   "metadata": {},
   "outputs": [
    {
     "name": "stdout",
     "output_type": "stream",
     "text": [
      "[35 25 30 20]\n"
     ]
    }
   ],
   "source": [
    "print(data[:,0]+5)"
   ]
  },
  {
   "cell_type": "markdown",
   "id": "36059105",
   "metadata": {},
   "source": [
    "#### (\":  - означает ВСЕ строки\")\n",
    "#### (\"0  - означает столбец 0 (первый столбец)\")\n",
    "\n",
    "#### (\"data1[:, 0] = ВСЕ строки, столбец 0\")\n",
    "#### (\"data1[0, :] = строка 0, ВСЕ столбцы\")\n",
    "#### (\"data1[1, 2] = строка 1, столбец 2 (одно число)\")"
   ]
  },
  {
   "cell_type": "markdown",
   "id": "7b016942",
   "metadata": {},
   "source": [
    "### Хочу найти жаркий день где темпертару будет > 22, с рекламой "
   ]
  },
  {
   "cell_type": "code",
   "execution_count": 11,
   "id": "10026d29",
   "metadata": {},
   "outputs": [],
   "source": [
    "t_hot = data[:,0] > 22\n",
    "r_day = data[:,1] == 1"
   ]
  },
  {
   "cell_type": "code",
   "execution_count": 13,
   "id": "6e3fefba",
   "metadata": {},
   "outputs": [
    {
     "name": "stdout",
     "output_type": "stream",
     "text": [
      "[ True False False False]\n"
     ]
    }
   ],
   "source": [
    "combinate = t_hot & r_day\n",
    "print(combinate)"
   ]
  },
  {
   "cell_type": "code",
   "execution_count": 14,
   "id": "9a96a476",
   "metadata": {},
   "outputs": [
    {
     "data": {
      "text/plain": [
       "array([[30,  1,  3]])"
      ]
     },
     "execution_count": 14,
     "metadata": {},
     "output_type": "execute_result"
    }
   ],
   "source": [
    "result = data[combinate]\n",
    "result "
   ]
  },
  {
   "cell_type": "code",
   "execution_count": 15,
   "id": "500ff1d2",
   "metadata": {},
   "outputs": [],
   "source": [
    "X = np.array([\n",
    "    [1, 2, 3],\n",
    "    [4, 6, 7],\n",
    "    [13, 8, 5],\n",
    "    [1, 12, 3]\n",
    "])"
   ]
  },
  {
   "cell_type": "code",
   "execution_count": 17,
   "id": "5fb86550",
   "metadata": {},
   "outputs": [],
   "source": [
    "w_all = np.array([2, 4, 6])"
   ]
  },
  {
   "cell_type": "code",
   "execution_count": 18,
   "id": "0539f6dc",
   "metadata": {},
   "outputs": [],
   "source": [
    "result = X@w_all"
   ]
  },
  {
   "cell_type": "code",
   "execution_count": 19,
   "id": "2d9ae52f",
   "metadata": {},
   "outputs": [
    {
     "name": "stdout",
     "output_type": "stream",
     "text": [
      "[28 74 88 68]\n"
     ]
    }
   ],
   "source": [
    "print(result)"
   ]
  },
  {
   "cell_type": "code",
   "execution_count": 21,
   "id": "d43f6d61",
   "metadata": {},
   "outputs": [
    {
     "data": {
      "text/plain": [
       "(4, 3)"
      ]
     },
     "execution_count": 21,
     "metadata": {},
     "output_type": "execute_result"
    }
   ],
   "source": [
    "data.shape"
   ]
  },
  {
   "cell_type": "code",
   "execution_count": 23,
   "id": "f0e24643",
   "metadata": {},
   "outputs": [
    {
     "data": {
      "text/plain": [
       "2"
      ]
     },
     "execution_count": 23,
     "metadata": {},
     "output_type": "execute_result"
    }
   ],
   "source": [
    "data.ndim"
   ]
  },
  {
   "cell_type": "code",
   "execution_count": 26,
   "id": "d4f2a84e",
   "metadata": {},
   "outputs": [
    {
     "data": {
      "text/plain": [
       "array([90,  2, 24])"
      ]
     },
     "execution_count": 26,
     "metadata": {},
     "output_type": "execute_result"
    }
   ],
   "source": [
    "result = np.sum(data, axis =0)\n",
    "result"
   ]
  },
  {
   "cell_type": "code",
   "execution_count": 27,
   "id": "f3de419a",
   "metadata": {},
   "outputs": [
    {
     "data": {
      "text/plain": [
       "array([[30, 20, 25, 15],\n",
       "       [ 1,  0,  0,  1],\n",
       "       [ 3,  8,  6,  7]])"
      ]
     },
     "execution_count": 27,
     "metadata": {},
     "output_type": "execute_result"
    }
   ],
   "source": [
    "data.T"
   ]
  }
 ],
 "metadata": {
  "kernelspec": {
   "display_name": ".venv",
   "language": "python",
   "name": "python3"
  },
  "language_info": {
   "codemirror_mode": {
    "name": "ipython",
    "version": 3
   },
   "file_extension": ".py",
   "mimetype": "text/x-python",
   "name": "python",
   "nbconvert_exporter": "python",
   "pygments_lexer": "ipython3",
   "version": "3.13.3"
  }
 },
 "nbformat": 4,
 "nbformat_minor": 5
}
